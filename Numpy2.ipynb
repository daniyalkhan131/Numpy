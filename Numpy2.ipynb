{
  "nbformat": 4,
  "nbformat_minor": 0,
  "metadata": {
    "colab": {
      "provenance": []
    },
    "kernelspec": {
      "name": "python3",
      "display_name": "Python 3"
    },
    "language_info": {
      "name": "python"
    }
  },
  "cells": [
    {
      "cell_type": "code",
      "execution_count": 1,
      "metadata": {
        "id": "SitoK8R0_L61"
      },
      "outputs": [],
      "source": [
        "import numpy as np"
      ]
    },
    {
      "cell_type": "code",
      "source": [
        "arr1=np.array([1,2,3,4,5])\n",
        "arr2=np.array([1,2,3,4,5,6]).reshape(2,3)\n",
        "arr3=np.array([1,2,3,4,5,6,7,8]).reshape(2,2,2)\n",
        "\n",
        "arr4=np.array([[[1,2],[3,4]],[[5,6],[7,8]]])"
      ],
      "metadata": {
        "id": "1idYtHD9_nQt"
      },
      "execution_count": 2,
      "outputs": []
    },
    {
      "cell_type": "code",
      "source": [
        "print(arr1.shape)\n",
        "print(arr2.shape)\n",
        "print(arr3.shape)\n",
        "print(arr4.shape)"
      ],
      "metadata": {
        "colab": {
          "base_uri": "https://localhost:8080/"
        },
        "id": "M24E9D5QAEFn",
        "outputId": "e95bfb8c-c796-4b77-f0dc-deaa12abee3b"
      },
      "execution_count": 3,
      "outputs": [
        {
          "output_type": "stream",
          "name": "stdout",
          "text": [
            "(5,)\n",
            "(2, 3)\n",
            "(2, 2, 2)\n",
            "(2, 2, 2)\n"
          ]
        }
      ]
    },
    {
      "cell_type": "code",
      "source": [
        "print(arr1)\n",
        "print(arr2)\n",
        "print(arr3)\n",
        "print('\\n\\n',arr4)"
      ],
      "metadata": {
        "colab": {
          "base_uri": "https://localhost:8080/"
        },
        "id": "RhgLATxuAKe3",
        "outputId": "ecb3da6b-07e5-4661-faef-d9ea337f470f"
      },
      "execution_count": 4,
      "outputs": [
        {
          "output_type": "stream",
          "name": "stdout",
          "text": [
            "[1 2 3 4 5]\n",
            "[[1 2 3]\n",
            " [4 5 6]]\n",
            "[[[1 2]\n",
            "  [3 4]]\n",
            "\n",
            " [[5 6]\n",
            "  [7 8]]]\n",
            "\n",
            "\n",
            " [[[1 2]\n",
            "  [3 4]]\n",
            "\n",
            " [[5 6]\n",
            "  [7 8]]]\n"
          ]
        }
      ]
    },
    {
      "cell_type": "code",
      "source": [
        "#for dimensions\n",
        "arr3.ndim"
      ],
      "metadata": {
        "colab": {
          "base_uri": "https://localhost:8080/"
        },
        "id": "PEuSC8yJASrm",
        "outputId": "ce582ed8-85ed-4883-c0c7-856156d27620"
      },
      "execution_count": 5,
      "outputs": [
        {
          "output_type": "execute_result",
          "data": {
            "text/plain": [
              "3"
            ]
          },
          "metadata": {},
          "execution_count": 5
        }
      ]
    },
    {
      "cell_type": "code",
      "source": [
        "#size for all element\n",
        "\n",
        "print(arr1.size)\n",
        "print(arr2.size)\n",
        "print(arr3.size)"
      ],
      "metadata": {
        "colab": {
          "base_uri": "https://localhost:8080/"
        },
        "id": "ZWCfeNwyAkxU",
        "outputId": "37dda066-7003-4711-ad78-1d793ec16225"
      },
      "execution_count": 6,
      "outputs": [
        {
          "output_type": "stream",
          "name": "stdout",
          "text": [
            "5\n",
            "6\n",
            "8\n"
          ]
        }
      ]
    },
    {
      "cell_type": "code",
      "source": [
        "#itemsize for getting size of element in array\n",
        "print(arr1.itemsize)\n",
        "print(arr2.itemsize)\n",
        "print(arr3.itemsize)\n",
        "#int stored\n",
        "\n",
        "arr4=np.array([1.3,2.3,3.2,4.1,5.5,6.8,7.7,8.9]).reshape(2,-1)\n",
        "print(arr4.itemsize)"
      ],
      "metadata": {
        "colab": {
          "base_uri": "https://localhost:8080/"
        },
        "id": "UPhRx6ggBkMl",
        "outputId": "47d56744-fc00-4c05-c46f-55d1fd6b861c"
      },
      "execution_count": 7,
      "outputs": [
        {
          "output_type": "stream",
          "name": "stdout",
          "text": [
            "8\n",
            "8\n",
            "8\n",
            "8\n"
          ]
        }
      ]
    },
    {
      "cell_type": "code",
      "source": [
        "#element datatype\n",
        "print(arr1.dtype)\n",
        "print(arr4.dtype)"
      ],
      "metadata": {
        "colab": {
          "base_uri": "https://localhost:8080/"
        },
        "id": "ib9SEfHnBzGH",
        "outputId": "6d353910-7b1e-4252-df76-36d5f0bb9387"
      },
      "execution_count": 8,
      "outputs": [
        {
          "output_type": "stream",
          "name": "stdout",
          "text": [
            "int64\n",
            "float64\n"
          ]
        }
      ]
    },
    {
      "cell_type": "code",
      "source": [
        "#for converting data type\n",
        "arr1=arr1.astype('float')\n",
        "print(arr1.dtype)"
      ],
      "metadata": {
        "colab": {
          "base_uri": "https://localhost:8080/"
        },
        "id": "UFKST0TAI3TI",
        "outputId": "04492c47-fd2f-454c-da52-cfb26978f827"
      },
      "execution_count": 9,
      "outputs": [
        {
          "output_type": "stream",
          "name": "stdout",
          "text": [
            "float64\n"
          ]
        }
      ]
    },
    {
      "cell_type": "code",
      "source": [
        "arr4.astype('int')"
      ],
      "metadata": {
        "colab": {
          "base_uri": "https://localhost:8080/"
        },
        "id": "7CLG4PgSJaGT",
        "outputId": "ddad70cb-881c-4db9-957d-456c1f11c000"
      },
      "execution_count": 10,
      "outputs": [
        {
          "output_type": "execute_result",
          "data": {
            "text/plain": [
              "array([[1, 2, 3, 4],\n",
              "       [5, 6, 7, 8]])"
            ]
          },
          "metadata": {},
          "execution_count": 10
        }
      ]
    },
    {
      "cell_type": "code",
      "source": [
        "#in data cleaning we also need to lessen the data footprint\n",
        "#w do this by making the size lesser\n",
        "#like age in float need to be convert into int as it takes less bytes\n",
        "#and age in float makes no sense"
      ],
      "metadata": {
        "id": "CEColggoJlKZ"
      },
      "execution_count": 11,
      "outputs": []
    },
    {
      "cell_type": "code",
      "source": [
        "#List vs Arrays\n",
        "#faster\n",
        "#convinient\n",
        "#less memory"
      ],
      "metadata": {
        "id": "RcxjcxyYKJ2H"
      },
      "execution_count": 12,
      "outputs": []
    },
    {
      "cell_type": "code",
      "source": [
        "lista=list(range(100))\n",
        "arra=np.arange(100)"
      ],
      "metadata": {
        "id": "LCe00ycXKruF"
      },
      "execution_count": 13,
      "outputs": []
    },
    {
      "cell_type": "code",
      "source": [
        "import sys\n",
        "\n",
        "print(sys.getsizeof(87)*len(lista))\n",
        "\n",
        "print(arra.itemsize*arra.size)"
      ],
      "metadata": {
        "colab": {
          "base_uri": "https://localhost:8080/"
        },
        "id": "OsTUcuzPLNo7",
        "outputId": "c939a3bc-b2d3-47df-c25f-e95ebea64bad"
      },
      "execution_count": 14,
      "outputs": [
        {
          "output_type": "stream",
          "name": "stdout",
          "text": [
            "2800\n",
            "800\n"
          ]
        }
      ]
    },
    {
      "cell_type": "code",
      "source": [
        "import time\n",
        "\n",
        "x=range(10000000)\n",
        "y=x=range(10000000,20000000)\n",
        "\n",
        "start_time=time.time()\n",
        "\n",
        "c=[(x,y) for x,y in zip(x,y)]\n",
        "\n",
        "print(time.time()-start_time)\n",
        "\n",
        "a=np.arange(10000000)\n",
        "b=np.arange(10000000,20000000)\n",
        "\n",
        "start_time=time.time()\n",
        "c=a+b\n",
        "print(time.time()-start_time)"
      ],
      "metadata": {
        "colab": {
          "base_uri": "https://localhost:8080/"
        },
        "id": "IFQONLYFLOXw",
        "outputId": "b90e22f6-8865-48c6-b307-02f8ea98edc9"
      },
      "execution_count": 15,
      "outputs": [
        {
          "output_type": "stream",
          "name": "stdout",
          "text": [
            "3.419046640396118\n",
            "0.7490103244781494\n"
          ]
        }
      ]
    },
    {
      "cell_type": "code",
      "source": [
        "arr5=np.arange(24).reshape(6,4)\n",
        "arr5"
      ],
      "metadata": {
        "id": "gXdRhp_fMJ_-",
        "colab": {
          "base_uri": "https://localhost:8080/"
        },
        "outputId": "3f016870-11e3-4117-ef3f-e76e269b305c"
      },
      "execution_count": 16,
      "outputs": [
        {
          "output_type": "execute_result",
          "data": {
            "text/plain": [
              "array([[ 0,  1,  2,  3],\n",
              "       [ 4,  5,  6,  7],\n",
              "       [ 8,  9, 10, 11],\n",
              "       [12, 13, 14, 15],\n",
              "       [16, 17, 18, 19],\n",
              "       [20, 21, 22, 23]])"
            ]
          },
          "metadata": {},
          "execution_count": 16
        }
      ]
    },
    {
      "cell_type": "code",
      "source": [
        "arr1"
      ],
      "metadata": {
        "colab": {
          "base_uri": "https://localhost:8080/"
        },
        "id": "Znn3Uzc-P4iZ",
        "outputId": "824611dd-1983-4b88-b3ed-72b85fc94959"
      },
      "execution_count": 17,
      "outputs": [
        {
          "output_type": "execute_result",
          "data": {
            "text/plain": [
              "array([1., 2., 3., 4., 5.])"
            ]
          },
          "metadata": {},
          "execution_count": 17
        }
      ]
    },
    {
      "cell_type": "code",
      "source": [
        "#slicing\n",
        "print(arr1[2:4])\n",
        "print(arr1[-1])\n",
        "print(arr5[2])\n",
        "print(arr5[:,2])\n",
        "print(arr5[:,1:3])\n",
        "print(arr5[2:4,1:3])"
      ],
      "metadata": {
        "colab": {
          "base_uri": "https://localhost:8080/"
        },
        "id": "atJGNo2MP5wA",
        "outputId": "b871cb1b-84e0-46c5-d4ea-e369e633522d"
      },
      "execution_count": 23,
      "outputs": [
        {
          "output_type": "stream",
          "name": "stdout",
          "text": [
            "[3. 4.]\n",
            "5.0\n",
            "[ 8  9 10 11]\n",
            "[ 2  6 10 14 18 22]\n",
            "[[ 1  2]\n",
            " [ 5  6]\n",
            " [ 9 10]\n",
            " [13 14]\n",
            " [17 18]\n",
            " [21 22]]\n",
            "[[ 9 10]\n",
            " [13 14]]\n"
          ]
        }
      ]
    },
    {
      "cell_type": "code",
      "source": [
        "#iterations\n",
        "\n",
        "for i in arr5:\n",
        "  print(i)\n",
        "\n",
        "for i in np.nditer(arr5):\n",
        "  print(i)"
      ],
      "metadata": {
        "colab": {
          "base_uri": "https://localhost:8080/"
        },
        "id": "0JxfotWiQERs",
        "outputId": "3f028c06-6081-40fa-cdd6-bb9dc3039d48"
      },
      "execution_count": 27,
      "outputs": [
        {
          "output_type": "stream",
          "name": "stdout",
          "text": [
            "[0 1 2 3]\n",
            "[4 5 6 7]\n",
            "[ 8  9 10 11]\n",
            "[12 13 14 15]\n",
            "[16 17 18 19]\n",
            "[20 21 22 23]\n",
            "0\n",
            "1\n",
            "2\n",
            "3\n",
            "4\n",
            "5\n",
            "6\n",
            "7\n",
            "8\n",
            "9\n",
            "10\n",
            "11\n",
            "12\n",
            "13\n",
            "14\n",
            "15\n",
            "16\n",
            "17\n",
            "18\n",
            "19\n",
            "20\n",
            "21\n",
            "22\n",
            "23\n"
          ]
        }
      ]
    },
    {
      "cell_type": "code",
      "source": [],
      "metadata": {
        "id": "6xytBb0rSGw8"
      },
      "execution_count": null,
      "outputs": []
    }
  ]
}