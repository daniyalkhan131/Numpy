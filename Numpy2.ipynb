{
  "nbformat": 4,
  "nbformat_minor": 0,
  "metadata": {
    "colab": {
      "provenance": []
    },
    "kernelspec": {
      "name": "python3",
      "display_name": "Python 3"
    },
    "language_info": {
      "name": "python"
    }
  },
  "cells": [
    {
      "cell_type": "code",
      "execution_count": 52,
      "metadata": {
        "id": "SitoK8R0_L61"
      },
      "outputs": [],
      "source": [
        "import numpy as np"
      ]
    },
    {
      "cell_type": "code",
      "source": [
        "arr1=np.array([1,2,3,4,5])\n",
        "arr2=np.array([1,2,3,4,5,6]).reshape(2,3)\n",
        "\n",
        "#below ones are tensors\n",
        "arr3=np.array([1,2,3,4,5,6,7,8]).reshape(2,2,2)\n",
        "\n",
        "arr4=np.array([[[1,2],[3,4]],[[5,6],[7,8]]])"
      ],
      "metadata": {
        "id": "1idYtHD9_nQt"
      },
      "execution_count": 53,
      "outputs": []
    },
    {
      "cell_type": "code",
      "source": [
        "print(arr1.shape)\n",
        "print(arr2.shape)\n",
        "print(arr3.shape)\n",
        "print(arr4.shape)"
      ],
      "metadata": {
        "colab": {
          "base_uri": "https://localhost:8080/"
        },
        "id": "M24E9D5QAEFn",
        "outputId": "5f4db7d0-a661-465d-8ac3-257f08b7e0e6"
      },
      "execution_count": 54,
      "outputs": [
        {
          "output_type": "stream",
          "name": "stdout",
          "text": [
            "(5,)\n",
            "(2, 3)\n",
            "(2, 2, 2)\n",
            "(2, 2, 2)\n"
          ]
        }
      ]
    },
    {
      "cell_type": "code",
      "source": [
        "print(arr1)\n",
        "print(arr2)\n",
        "print(arr3)\n",
        "print('\\n\\n',arr4)"
      ],
      "metadata": {
        "colab": {
          "base_uri": "https://localhost:8080/"
        },
        "id": "RhgLATxuAKe3",
        "outputId": "ea74b1a5-0c99-4c1d-e857-077c35040388"
      },
      "execution_count": 55,
      "outputs": [
        {
          "output_type": "stream",
          "name": "stdout",
          "text": [
            "[1 2 3 4 5]\n",
            "[[1 2 3]\n",
            " [4 5 6]]\n",
            "[[[1 2]\n",
            "  [3 4]]\n",
            "\n",
            " [[5 6]\n",
            "  [7 8]]]\n",
            "\n",
            "\n",
            " [[[1 2]\n",
            "  [3 4]]\n",
            "\n",
            " [[5 6]\n",
            "  [7 8]]]\n"
          ]
        }
      ]
    },
    {
      "cell_type": "code",
      "source": [
        "#for dimensions\n",
        "arr3.ndim"
      ],
      "metadata": {
        "colab": {
          "base_uri": "https://localhost:8080/"
        },
        "id": "PEuSC8yJASrm",
        "outputId": "958056a5-5f58-4a25-e1d6-e8637ddedcfe"
      },
      "execution_count": 56,
      "outputs": [
        {
          "output_type": "execute_result",
          "data": {
            "text/plain": [
              "3"
            ]
          },
          "metadata": {},
          "execution_count": 56
        }
      ]
    },
    {
      "cell_type": "code",
      "source": [
        "#size for all element\n",
        "\n",
        "print(arr1.size)\n",
        "print(arr2.size)\n",
        "print(arr3.size)"
      ],
      "metadata": {
        "colab": {
          "base_uri": "https://localhost:8080/"
        },
        "id": "ZWCfeNwyAkxU",
        "outputId": "c6b0f8dc-b195-4649-b43a-351be712594f"
      },
      "execution_count": 57,
      "outputs": [
        {
          "output_type": "stream",
          "name": "stdout",
          "text": [
            "5\n",
            "6\n",
            "8\n"
          ]
        }
      ]
    },
    {
      "cell_type": "code",
      "source": [
        "#itemsize for getting size of element in array\n",
        "print(arr1.itemsize)\n",
        "print(arr2.itemsize)\n",
        "print(arr3.itemsize)\n",
        "#int stored\n",
        "\n",
        "arr4=np.array([1.3,2.3,3.2,4.1,5.5,6.8,7.7,8.9]).reshape(2,-1)\n",
        "print(arr4.itemsize)"
      ],
      "metadata": {
        "colab": {
          "base_uri": "https://localhost:8080/"
        },
        "id": "UPhRx6ggBkMl",
        "outputId": "3aa92405-0090-4a81-de37-ee676703f645"
      },
      "execution_count": 58,
      "outputs": [
        {
          "output_type": "stream",
          "name": "stdout",
          "text": [
            "8\n",
            "8\n",
            "8\n",
            "8\n"
          ]
        }
      ]
    },
    {
      "cell_type": "code",
      "source": [
        "#element datatype\n",
        "print(arr1.dtype)\n",
        "print(arr4.dtype)"
      ],
      "metadata": {
        "colab": {
          "base_uri": "https://localhost:8080/"
        },
        "id": "ib9SEfHnBzGH",
        "outputId": "42a9a317-7f36-464c-e1bb-b3b146e4a0bc"
      },
      "execution_count": 59,
      "outputs": [
        {
          "output_type": "stream",
          "name": "stdout",
          "text": [
            "int64\n",
            "float64\n"
          ]
        }
      ]
    },
    {
      "cell_type": "code",
      "source": [
        "#for converting data type\n",
        "arr1=arr1.astype('float')\n",
        "print(arr1.dtype)"
      ],
      "metadata": {
        "colab": {
          "base_uri": "https://localhost:8080/"
        },
        "id": "UFKST0TAI3TI",
        "outputId": "d64bbe88-6609-4457-9c17-b8250724fb69"
      },
      "execution_count": 60,
      "outputs": [
        {
          "output_type": "stream",
          "name": "stdout",
          "text": [
            "float64\n"
          ]
        }
      ]
    },
    {
      "cell_type": "code",
      "source": [
        "arr4.astype('int')"
      ],
      "metadata": {
        "colab": {
          "base_uri": "https://localhost:8080/"
        },
        "id": "7CLG4PgSJaGT",
        "outputId": "552faf84-bcb5-452b-82d3-06d5820211a2"
      },
      "execution_count": 61,
      "outputs": [
        {
          "output_type": "execute_result",
          "data": {
            "text/plain": [
              "array([[1, 2, 3, 4],\n",
              "       [5, 6, 7, 8]])"
            ]
          },
          "metadata": {},
          "execution_count": 61
        }
      ]
    },
    {
      "cell_type": "code",
      "source": [
        "arrt=np.array([1,2,3,4,5,-1,0],dtype='float')\n",
        "print(arrt)\n",
        "\n",
        "arrt=np.array([1,2,3,4,5,-1,0],dtype='complex')\n",
        "print(arrt)\n",
        "\n",
        "arrt=np.array([1,2,3,4,5,-1,0],dtype='bool')\n",
        "print(arrt)"
      ],
      "metadata": {
        "colab": {
          "base_uri": "https://localhost:8080/"
        },
        "id": "rgv1-SJc1nzZ",
        "outputId": "6a560903-7822-4ad9-af86-ac6581305cd0"
      },
      "execution_count": 62,
      "outputs": [
        {
          "output_type": "stream",
          "name": "stdout",
          "text": [
            "[ 1.  2.  3.  4.  5. -1.  0.]\n",
            "[ 1.+0.j  2.+0.j  3.+0.j  4.+0.j  5.+0.j -1.+0.j  0.+0.j]\n",
            "[ True  True  True  True  True  True False]\n"
          ]
        }
      ]
    },
    {
      "cell_type": "code",
      "source": [
        "arrt=np.array([1,2,3,4,5,-1,0],dtype='float')\n",
        "print(arrt)\n",
        "arrt=arrt.astype('bool')\n",
        "print(arrt)"
      ],
      "metadata": {
        "colab": {
          "base_uri": "https://localhost:8080/"
        },
        "id": "yDTkee6e1931",
        "outputId": "376b50c8-9650-4620-d061-5d4264bf4ad7"
      },
      "execution_count": 63,
      "outputs": [
        {
          "output_type": "stream",
          "name": "stdout",
          "text": [
            "[ 1.  2.  3.  4.  5. -1.  0.]\n",
            "[ True  True  True  True  True  True False]\n"
          ]
        }
      ]
    },
    {
      "cell_type": "code",
      "source": [
        "#in data cleaning we also need to lessen the data footprint\n",
        "#w do this by making the size lesser\n",
        "#like age in float need to be convert into int as it takes less bytes\n",
        "#and age in float makes no sense"
      ],
      "metadata": {
        "id": "CEColggoJlKZ"
      },
      "execution_count": 64,
      "outputs": []
    },
    {
      "cell_type": "code",
      "source": [
        "#List vs Arrays\n",
        "#faster\n",
        "#convinient\n",
        "#less memory"
      ],
      "metadata": {
        "id": "RcxjcxyYKJ2H"
      },
      "execution_count": 65,
      "outputs": []
    },
    {
      "cell_type": "code",
      "source": [
        "lista=list(range(100))\n",
        "arra=np.arange(100)"
      ],
      "metadata": {
        "id": "LCe00ycXKruF"
      },
      "execution_count": 66,
      "outputs": []
    },
    {
      "cell_type": "code",
      "source": [
        "import sys\n",
        "\n",
        "print(sys.getsizeof(87)*len(lista))\n",
        "\n",
        "print(arra.itemsize*arra.size)"
      ],
      "metadata": {
        "colab": {
          "base_uri": "https://localhost:8080/"
        },
        "id": "OsTUcuzPLNo7",
        "outputId": "7118a012-b9b1-4fb6-d237-34918b386a16"
      },
      "execution_count": 67,
      "outputs": [
        {
          "output_type": "stream",
          "name": "stdout",
          "text": [
            "2800\n",
            "800\n"
          ]
        }
      ]
    },
    {
      "cell_type": "code",
      "source": [
        "import time\n",
        "\n",
        "x=range(10000000)\n",
        "y=x=range(10000000,20000000)\n",
        "\n",
        "start_time=time.time()\n",
        "\n",
        "c=[(x,y) for x,y in zip(x,y)]\n",
        "\n",
        "print(time.time()-start_time)\n",
        "\n",
        "a=np.arange(10000000)\n",
        "b=np.arange(10000000,20000000)\n",
        "\n",
        "start_time=time.time()\n",
        "c=a+b\n",
        "print(time.time()-start_time)"
      ],
      "metadata": {
        "colab": {
          "base_uri": "https://localhost:8080/"
        },
        "id": "IFQONLYFLOXw",
        "outputId": "d2dc888f-674c-4cac-c5a1-02f69d6d9833"
      },
      "execution_count": 68,
      "outputs": [
        {
          "output_type": "stream",
          "name": "stdout",
          "text": [
            "2.8764989376068115\n",
            "0.039328575134277344\n"
          ]
        }
      ]
    },
    {
      "cell_type": "code",
      "source": [
        "arr5=np.arange(24).reshape(6,4)\n",
        "arr5"
      ],
      "metadata": {
        "id": "gXdRhp_fMJ_-",
        "colab": {
          "base_uri": "https://localhost:8080/"
        },
        "outputId": "656f1495-d3a7-4186-a9db-20da353cf84c"
      },
      "execution_count": 69,
      "outputs": [
        {
          "output_type": "execute_result",
          "data": {
            "text/plain": [
              "array([[ 0,  1,  2,  3],\n",
              "       [ 4,  5,  6,  7],\n",
              "       [ 8,  9, 10, 11],\n",
              "       [12, 13, 14, 15],\n",
              "       [16, 17, 18, 19],\n",
              "       [20, 21, 22, 23]])"
            ]
          },
          "metadata": {},
          "execution_count": 69
        }
      ]
    },
    {
      "cell_type": "code",
      "source": [
        "arr1"
      ],
      "metadata": {
        "colab": {
          "base_uri": "https://localhost:8080/"
        },
        "id": "Znn3Uzc-P4iZ",
        "outputId": "537d3e6b-7fd6-4007-ae5f-c8e4ba0b3687"
      },
      "execution_count": 70,
      "outputs": [
        {
          "output_type": "execute_result",
          "data": {
            "text/plain": [
              "array([1., 2., 3., 4., 5.])"
            ]
          },
          "metadata": {},
          "execution_count": 70
        }
      ]
    },
    {
      "cell_type": "code",
      "source": [
        "#slicing\n",
        "print(arr1[2:4])\n",
        "print(arr1[-1])\n",
        "print(arr5[2])\n",
        "print(arr5[:,2])\n",
        "print(arr5[:,1:3])\n",
        "print(arr5[2:4,1:3])\n",
        "\n",
        "print(arr5[::5,::3]) #corner elements taken"
      ],
      "metadata": {
        "colab": {
          "base_uri": "https://localhost:8080/"
        },
        "id": "atJGNo2MP5wA",
        "outputId": "0d796fae-32b7-48b8-b707-d5836c562031"
      },
      "execution_count": 75,
      "outputs": [
        {
          "output_type": "stream",
          "name": "stdout",
          "text": [
            "[3. 4.]\n",
            "5.0\n",
            "[ 8  9 10 11]\n",
            "[ 2  6 10 14 18 22]\n",
            "[[ 1  2]\n",
            " [ 5  6]\n",
            " [ 9 10]\n",
            " [13 14]\n",
            " [17 18]\n",
            " [21 22]]\n",
            "[[ 9 10]\n",
            " [13 14]]\n",
            "[[ 0  3]\n",
            " [20 23]]\n"
          ]
        }
      ]
    },
    {
      "cell_type": "code",
      "source": [
        "#iterations\n",
        "\n",
        "for i in arr5:\n",
        "  print(i)\n",
        "\n",
        "for i in np.nditer(arr5):\n",
        "  print(i)\n",
        "#same functionality with flatten()\n",
        "#for i in arr5.flatten():\n",
        "#  print(i)"
      ],
      "metadata": {
        "colab": {
          "base_uri": "https://localhost:8080/"
        },
        "id": "0JxfotWiQERs",
        "outputId": "9a13127e-a7fa-45ca-a280-71889efe5abc"
      },
      "execution_count": 32,
      "outputs": [
        {
          "output_type": "stream",
          "name": "stdout",
          "text": [
            "[0 1 2 3]\n",
            "[4 5 6 7]\n",
            "[ 8  9 10 11]\n",
            "[12 13 14 15]\n",
            "[16 17 18 19]\n",
            "[20 21 22 23]\n",
            "0\n",
            "1\n",
            "2\n",
            "3\n",
            "4\n",
            "5\n",
            "6\n",
            "7\n",
            "8\n",
            "9\n",
            "10\n",
            "11\n",
            "12\n",
            "13\n",
            "14\n",
            "15\n",
            "16\n",
            "17\n",
            "18\n",
            "19\n",
            "20\n",
            "21\n",
            "22\n",
            "23\n"
          ]
        }
      ]
    },
    {
      "cell_type": "code",
      "source": [
        "#mathematical operation"
      ],
      "metadata": {
        "id": "6xytBb0rSGw8"
      },
      "execution_count": 14,
      "outputs": []
    },
    {
      "cell_type": "code",
      "source": [
        "a1=np.arange(1,21).reshape(5,4)\n",
        "a2=np.arange(1,21).reshape(5,4)\n",
        "print(a1)\n",
        "print(a2)"
      ],
      "metadata": {
        "colab": {
          "base_uri": "https://localhost:8080/"
        },
        "id": "L4zmaYrpQ2n4",
        "outputId": "8c65051a-6963-4f37-bb40-2306e94feb3f"
      },
      "execution_count": 19,
      "outputs": [
        {
          "output_type": "stream",
          "name": "stdout",
          "text": [
            "[[ 1  2  3  4]\n",
            " [ 5  6  7  8]\n",
            " [ 9 10 11 12]\n",
            " [13 14 15 16]\n",
            " [17 18 19 20]]\n",
            "[[ 1  2  3  4]\n",
            " [ 5  6  7  8]\n",
            " [ 9 10 11 12]\n",
            " [13 14 15 16]\n",
            " [17 18 19 20]]\n"
          ]
        }
      ]
    },
    {
      "cell_type": "code",
      "source": [
        "#scalar operation\n",
        "#arithmetic\n",
        "a1**2\n",
        "a1+3\n",
        "a1//4\n",
        "a1/4"
      ],
      "metadata": {
        "colab": {
          "base_uri": "https://localhost:8080/"
        },
        "id": "eOFs18jzPhQt",
        "outputId": "8f594d08-db67-400a-ba81-7142c806d6c5"
      },
      "execution_count": 23,
      "outputs": [
        {
          "output_type": "execute_result",
          "data": {
            "text/plain": [
              "array([[0.25, 0.5 , 0.75, 1.  ],\n",
              "       [1.25, 1.5 , 1.75, 2.  ],\n",
              "       [2.25, 2.5 , 2.75, 3.  ],\n",
              "       [3.25, 3.5 , 3.75, 4.  ],\n",
              "       [4.25, 4.5 , 4.75, 5.  ]])"
            ]
          },
          "metadata": {},
          "execution_count": 23
        }
      ]
    },
    {
      "cell_type": "code",
      "source": [
        "#relational\n",
        "\n",
        "a1>10\n",
        "a1==15"
      ],
      "metadata": {
        "colab": {
          "base_uri": "https://localhost:8080/"
        },
        "id": "jrVFuXfuRMJH",
        "outputId": "0f584495-608d-4cbe-af59-8e4c8b7a4406"
      },
      "execution_count": 25,
      "outputs": [
        {
          "output_type": "execute_result",
          "data": {
            "text/plain": [
              "array([[False, False, False, False],\n",
              "       [False, False, False, False],\n",
              "       [False, False, False, False],\n",
              "       [False, False,  True, False],\n",
              "       [False, False, False, False]])"
            ]
          },
          "metadata": {},
          "execution_count": 25
        }
      ]
    },
    {
      "cell_type": "code",
      "source": [
        "#vector operation\n",
        "#arithmetic\n",
        "\n",
        "a1+a2\n",
        "a1*a2\n",
        "a1/a2 #these all are doing element wise , size shoul be same"
      ],
      "metadata": {
        "colab": {
          "base_uri": "https://localhost:8080/"
        },
        "id": "JAkRq_b4Rb6R",
        "outputId": "1a3b3edb-deea-46fb-f6ce-ef3c0276960c"
      },
      "execution_count": 29,
      "outputs": [
        {
          "output_type": "execute_result",
          "data": {
            "text/plain": [
              "array([[1., 1., 1., 1.],\n",
              "       [1., 1., 1., 1.],\n",
              "       [1., 1., 1., 1.],\n",
              "       [1., 1., 1., 1.],\n",
              "       [1., 1., 1., 1.]])"
            ]
          },
          "metadata": {},
          "execution_count": 29
        }
      ]
    },
    {
      "cell_type": "code",
      "source": [
        "#different functions\n",
        "np.max(a1)\n",
        "np.min(a1)\n",
        "np.sum(a1)\n",
        "np.product(a1)\n",
        "#for doing col wise or row wise\n",
        "np.max(a1,axis=0) #col\n",
        "np.max(a1,axis=1) #row"
      ],
      "metadata": {
        "colab": {
          "base_uri": "https://localhost:8080/"
        },
        "id": "KGGhMG3iRxby",
        "outputId": "36fc9ca4-880d-42e8-e6cc-b820d04af074"
      },
      "execution_count": 35,
      "outputs": [
        {
          "output_type": "execute_result",
          "data": {
            "text/plain": [
              "array([ 4,  8, 12, 16, 20])"
            ]
          },
          "metadata": {},
          "execution_count": 35
        }
      ]
    },
    {
      "cell_type": "code",
      "source": [
        "np.mean(a1,axis=0)\n",
        "np.median(a1,axis=1)\n",
        "np.std(a1,axis=1)\n",
        "np.var(a1,axis=1)"
      ],
      "metadata": {
        "colab": {
          "base_uri": "https://localhost:8080/"
        },
        "id": "9A59Gd_HXbxW",
        "outputId": "70d61308-a29d-42a6-d1ee-2d8333401bb3"
      },
      "execution_count": 39,
      "outputs": [
        {
          "output_type": "execute_result",
          "data": {
            "text/plain": [
              "array([1.25, 1.25, 1.25, 1.25, 1.25])"
            ]
          },
          "metadata": {},
          "execution_count": 39
        }
      ]
    },
    {
      "cell_type": "code",
      "source": [
        "np.sin(a1)"
      ],
      "metadata": {
        "colab": {
          "base_uri": "https://localhost:8080/"
        },
        "id": "GLCjK9xYYHAh",
        "outputId": "8f1b16de-ec79-4759-b8e1-d94e1a433d40"
      },
      "execution_count": 40,
      "outputs": [
        {
          "output_type": "execute_result",
          "data": {
            "text/plain": [
              "array([[ 0.84147098,  0.90929743,  0.14112001, -0.7568025 ],\n",
              "       [-0.95892427, -0.2794155 ,  0.6569866 ,  0.98935825],\n",
              "       [ 0.41211849, -0.54402111, -0.99999021, -0.53657292],\n",
              "       [ 0.42016704,  0.99060736,  0.65028784, -0.28790332],\n",
              "       [-0.96139749, -0.75098725,  0.14987721,  0.91294525]])"
            ]
          },
          "metadata": {},
          "execution_count": 40
        }
      ]
    },
    {
      "cell_type": "code",
      "source": [
        "a1.shape,a2.shape"
      ],
      "metadata": {
        "colab": {
          "base_uri": "https://localhost:8080/"
        },
        "id": "JEkStjrqYjKW",
        "outputId": "1db2b522-fc7d-4c0b-89ed-9853bbf0226e"
      },
      "execution_count": 41,
      "outputs": [
        {
          "output_type": "execute_result",
          "data": {
            "text/plain": [
              "((5, 4), (5, 4))"
            ]
          },
          "metadata": {},
          "execution_count": 41
        }
      ]
    },
    {
      "cell_type": "code",
      "source": [
        "np.dot(a1,a2.T)"
      ],
      "metadata": {
        "colab": {
          "base_uri": "https://localhost:8080/"
        },
        "id": "s1iVZjYFYqdW",
        "outputId": "0d991df1-457d-472b-fe2f-e4aba3e6f4e4"
      },
      "execution_count": 44,
      "outputs": [
        {
          "output_type": "execute_result",
          "data": {
            "text/plain": [
              "array([[  30,   70,  110,  150,  190],\n",
              "       [  70,  174,  278,  382,  486],\n",
              "       [ 110,  278,  446,  614,  782],\n",
              "       [ 150,  382,  614,  846, 1078],\n",
              "       [ 190,  486,  782, 1078, 1374]])"
            ]
          },
          "metadata": {},
          "execution_count": 44
        }
      ]
    },
    {
      "cell_type": "code",
      "source": [
        "np.log(a1)\n",
        "np.exp(a1)"
      ],
      "metadata": {
        "colab": {
          "base_uri": "https://localhost:8080/"
        },
        "id": "2I-izY7rYuqv",
        "outputId": "57d4762e-44d9-4b4d-81d7-ce108c65d42e"
      },
      "execution_count": 46,
      "outputs": [
        {
          "output_type": "execute_result",
          "data": {
            "text/plain": [
              "array([[2.71828183e+00, 7.38905610e+00, 2.00855369e+01, 5.45981500e+01],\n",
              "       [1.48413159e+02, 4.03428793e+02, 1.09663316e+03, 2.98095799e+03],\n",
              "       [8.10308393e+03, 2.20264658e+04, 5.98741417e+04, 1.62754791e+05],\n",
              "       [4.42413392e+05, 1.20260428e+06, 3.26901737e+06, 8.88611052e+06],\n",
              "       [2.41549528e+07, 6.56599691e+07, 1.78482301e+08, 4.85165195e+08]])"
            ]
          },
          "metadata": {},
          "execution_count": 46
        }
      ]
    },
    {
      "cell_type": "code",
      "source": [
        "np.round(np.random.random((5,6))*100)\n",
        "np.floor(np.random.random((5,6))*100)\n",
        "np.ceil(np.random.random((5,6))*100)"
      ],
      "metadata": {
        "colab": {
          "base_uri": "https://localhost:8080/"
        },
        "id": "KafSeGnvZDVO",
        "outputId": "46e5f7b9-ac2a-4eea-88be-9ba8beb140ca"
      },
      "execution_count": 50,
      "outputs": [
        {
          "output_type": "execute_result",
          "data": {
            "text/plain": [
              "array([[25., 70., 80., 53., 61., 18.],\n",
              "       [17., 71., 70., 22., 95., 98.],\n",
              "       [24., 70., 22., 60., 59., 74.],\n",
              "       [65., 62., 69.,  9., 83., 66.],\n",
              "       [91.,  6., 81., 32., 56., 36.]])"
            ]
          },
          "metadata": {},
          "execution_count": 50
        }
      ]
    },
    {
      "cell_type": "code",
      "source": [
        "#transpose\n",
        "np.transpose(a1)#or\n",
        "a1.T\n",
        "#ravel for convert to 1d\n",
        "a1.ravel() #or\n",
        "a1.flatten()"
      ],
      "metadata": {
        "colab": {
          "base_uri": "https://localhost:8080/"
        },
        "id": "T8qsZj0BZTBh",
        "outputId": "792e67b4-2827-4ecf-a36e-93860e6a6bf6"
      },
      "execution_count": 79,
      "outputs": [
        {
          "output_type": "execute_result",
          "data": {
            "text/plain": [
              "array([ 1,  2,  3,  4,  5,  6,  7,  8,  9, 10, 11, 12, 13, 14, 15, 16, 17,\n",
              "       18, 19, 20])"
            ]
          },
          "metadata": {},
          "execution_count": 79
        }
      ]
    },
    {
      "cell_type": "code",
      "source": [
        "#stacking\n",
        "\n",
        "#horizontal\n",
        "np.concatenate((a1,a2),axis=1) #or\n",
        "np.hstack((a1,a2))\n",
        "\n",
        "#vertical\n",
        "np.concatenate((a1,a2),axis=0) #or\n",
        "np.vstack((a1,a2))\n",
        "\n",
        "#shapr should be same to stack"
      ],
      "metadata": {
        "colab": {
          "base_uri": "https://localhost:8080/"
        },
        "id": "zgHLXWM2cBAB",
        "outputId": "2df22bc2-eb12-41ea-c788-734c4faa76b6"
      },
      "execution_count": 90,
      "outputs": [
        {
          "output_type": "execute_result",
          "data": {
            "text/plain": [
              "array([[ 1,  2,  3,  4],\n",
              "       [ 5,  6,  7,  8],\n",
              "       [ 9, 10, 11, 12],\n",
              "       [13, 14, 15, 16],\n",
              "       [17, 18, 19, 20],\n",
              "       [ 1,  2,  3,  4],\n",
              "       [ 5,  6,  7,  8],\n",
              "       [ 9, 10, 11, 12],\n",
              "       [13, 14, 15, 16],\n",
              "       [17, 18, 19, 20]])"
            ]
          },
          "metadata": {},
          "execution_count": 90
        }
      ]
    },
    {
      "cell_type": "code",
      "source": [
        "#splitting\n",
        "a=np.arange(1,17).reshape(4,4)\n",
        "#horizontal\n",
        "np.hsplit(a,2) #2 equal part split\n",
        "\n",
        "#vertical\n",
        "np.vsplit(a,2)"
      ],
      "metadata": {
        "colab": {
          "base_uri": "https://localhost:8080/"
        },
        "id": "2HCCMTT7ck9H",
        "outputId": "47f17c8c-efed-49f0-f794-23d7e9c9d8ea"
      },
      "execution_count": 97,
      "outputs": [
        {
          "output_type": "execute_result",
          "data": {
            "text/plain": [
              "[array([[1, 2, 3, 4],\n",
              "        [5, 6, 7, 8]]),\n",
              " array([[ 9, 10, 11, 12],\n",
              "        [13, 14, 15, 16]])]"
            ]
          },
          "metadata": {},
          "execution_count": 97
        }
      ]
    },
    {
      "cell_type": "code",
      "source": [
        "a1"
      ],
      "metadata": {
        "colab": {
          "base_uri": "https://localhost:8080/"
        },
        "id": "8uA0kfgidslL",
        "outputId": "36055f44-edfb-47c6-c995-b80b8dc8529a"
      },
      "execution_count": 96,
      "outputs": [
        {
          "output_type": "execute_result",
          "data": {
            "text/plain": [
              "array([[ 1,  2,  3,  4],\n",
              "       [ 5,  6,  7,  8],\n",
              "       [ 9, 10, 11, 12],\n",
              "       [13, 14, 15, 16],\n",
              "       [17, 18, 19, 20]])"
            ]
          },
          "metadata": {},
          "execution_count": 96
        }
      ]
    },
    {
      "cell_type": "code",
      "source": [],
      "metadata": {
        "id": "mss5O-ald-WM"
      },
      "execution_count": null,
      "outputs": []
    }
  ]
}